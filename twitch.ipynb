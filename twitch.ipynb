{
 "cells": [
  {
   "cell_type": "code",
   "execution_count": 1,
   "id": "ecd4e3a3",
   "metadata": {},
   "outputs": [],
   "source": [
    "import pandas as pd\n",
    "import matplotlib.pyplot as plt\n",
    "import numpy as np"
   ]
  },
  {
   "cell_type": "code",
   "execution_count": 2,
   "id": "0968e830",
   "metadata": {},
   "outputs": [],
   "source": [
    "df = pd.read_csv(\"Twitch_game_data.csv\")"
   ]
  },
  {
   "cell_type": "code",
   "execution_count": 3,
   "id": "74b9fd9a",
   "metadata": {},
   "outputs": [
    {
     "data": {
      "text/html": [
       "<div>\n",
       "<style scoped>\n",
       "    .dataframe tbody tr th:only-of-type {\n",
       "        vertical-align: middle;\n",
       "    }\n",
       "\n",
       "    .dataframe tbody tr th {\n",
       "        vertical-align: top;\n",
       "    }\n",
       "\n",
       "    .dataframe thead th {\n",
       "        text-align: right;\n",
       "    }\n",
       "</style>\n",
       "<table border=\"1\" class=\"dataframe\">\n",
       "  <thead>\n",
       "    <tr style=\"text-align: right;\">\n",
       "      <th></th>\n",
       "      <th>Rank</th>\n",
       "      <th>Game</th>\n",
       "      <th>Month</th>\n",
       "      <th>Year</th>\n",
       "      <th>Hours_watched</th>\n",
       "      <th>Hours_Streamed</th>\n",
       "      <th>Peak_viewers</th>\n",
       "      <th>Peak_channels</th>\n",
       "      <th>Streamers</th>\n",
       "      <th>Avg_viewers</th>\n",
       "      <th>Avg_channels</th>\n",
       "      <th>Avg_viewer_ratio</th>\n",
       "    </tr>\n",
       "  </thead>\n",
       "  <tbody>\n",
       "    <tr>\n",
       "      <th>0</th>\n",
       "      <td>1</td>\n",
       "      <td>League of Legends</td>\n",
       "      <td>1</td>\n",
       "      <td>2016</td>\n",
       "      <td>94377226</td>\n",
       "      <td>1362044 hours</td>\n",
       "      <td>530270</td>\n",
       "      <td>2903</td>\n",
       "      <td>129172</td>\n",
       "      <td>127021</td>\n",
       "      <td>1833</td>\n",
       "      <td>69.29</td>\n",
       "    </tr>\n",
       "    <tr>\n",
       "      <th>1</th>\n",
       "      <td>2</td>\n",
       "      <td>Counter-Strike: Global Offensive</td>\n",
       "      <td>1</td>\n",
       "      <td>2016</td>\n",
       "      <td>47832863</td>\n",
       "      <td>830105 hours</td>\n",
       "      <td>372654</td>\n",
       "      <td>2197</td>\n",
       "      <td>120849</td>\n",
       "      <td>64378</td>\n",
       "      <td>1117</td>\n",
       "      <td>57.62</td>\n",
       "    </tr>\n",
       "    <tr>\n",
       "      <th>2</th>\n",
       "      <td>3</td>\n",
       "      <td>Dota 2</td>\n",
       "      <td>1</td>\n",
       "      <td>2016</td>\n",
       "      <td>45185893</td>\n",
       "      <td>433397 hours</td>\n",
       "      <td>315083</td>\n",
       "      <td>1100</td>\n",
       "      <td>44074</td>\n",
       "      <td>60815</td>\n",
       "      <td>583</td>\n",
       "      <td>104.26</td>\n",
       "    </tr>\n",
       "    <tr>\n",
       "      <th>3</th>\n",
       "      <td>4</td>\n",
       "      <td>Hearthstone</td>\n",
       "      <td>1</td>\n",
       "      <td>2016</td>\n",
       "      <td>39936159</td>\n",
       "      <td>235903 hours</td>\n",
       "      <td>131357</td>\n",
       "      <td>517</td>\n",
       "      <td>36170</td>\n",
       "      <td>53749</td>\n",
       "      <td>317</td>\n",
       "      <td>169.29</td>\n",
       "    </tr>\n",
       "    <tr>\n",
       "      <th>4</th>\n",
       "      <td>5</td>\n",
       "      <td>Call of Duty: Black Ops III</td>\n",
       "      <td>1</td>\n",
       "      <td>2016</td>\n",
       "      <td>16153057</td>\n",
       "      <td>1151578 hours</td>\n",
       "      <td>71639</td>\n",
       "      <td>3620</td>\n",
       "      <td>214054</td>\n",
       "      <td>21740</td>\n",
       "      <td>1549</td>\n",
       "      <td>14.03</td>\n",
       "    </tr>\n",
       "  </tbody>\n",
       "</table>\n",
       "</div>"
      ],
      "text/plain": [
       "   Rank                              Game  Month  Year  Hours_watched  \\\n",
       "0     1                 League of Legends      1  2016       94377226   \n",
       "1     2  Counter-Strike: Global Offensive      1  2016       47832863   \n",
       "2     3                            Dota 2      1  2016       45185893   \n",
       "3     4                       Hearthstone      1  2016       39936159   \n",
       "4     5       Call of Duty: Black Ops III      1  2016       16153057   \n",
       "\n",
       "  Hours_Streamed  Peak_viewers  Peak_channels  Streamers  Avg_viewers  \\\n",
       "0  1362044 hours        530270           2903     129172       127021   \n",
       "1   830105 hours        372654           2197     120849        64378   \n",
       "2   433397 hours        315083           1100      44074        60815   \n",
       "3   235903 hours        131357            517      36170        53749   \n",
       "4  1151578 hours         71639           3620     214054        21740   \n",
       "\n",
       "   Avg_channels  Avg_viewer_ratio  \n",
       "0          1833             69.29  \n",
       "1          1117             57.62  \n",
       "2           583            104.26  \n",
       "3           317            169.29  \n",
       "4          1549             14.03  "
      ]
     },
     "execution_count": 3,
     "metadata": {},
     "output_type": "execute_result"
    }
   ],
   "source": [
    "df.head()"
   ]
  },
  {
   "cell_type": "code",
   "execution_count": 4,
   "id": "1230c151",
   "metadata": {},
   "outputs": [],
   "source": [
    "df.columns = ['Ranque', 'Jogo' ,'Mes', 'Ano', 'Horas_observadas', 'Horas_transmitidas','Pico_de_espectadores','Pico_de_canais', 'Streamers', 'Telespectadores_avg', 'Canais_avg','lação_de_visualização_avg']"
   ]
  },
  {
   "cell_type": "code",
   "execution_count": 5,
   "id": "21191892",
   "metadata": {},
   "outputs": [
    {
     "data": {
      "text/html": [
       "<div>\n",
       "<style scoped>\n",
       "    .dataframe tbody tr th:only-of-type {\n",
       "        vertical-align: middle;\n",
       "    }\n",
       "\n",
       "    .dataframe tbody tr th {\n",
       "        vertical-align: top;\n",
       "    }\n",
       "\n",
       "    .dataframe thead th {\n",
       "        text-align: right;\n",
       "    }\n",
       "</style>\n",
       "<table border=\"1\" class=\"dataframe\">\n",
       "  <thead>\n",
       "    <tr style=\"text-align: right;\">\n",
       "      <th></th>\n",
       "      <th>Ranque</th>\n",
       "      <th>Jogo</th>\n",
       "      <th>Mes</th>\n",
       "      <th>Ano</th>\n",
       "      <th>Horas_observadas</th>\n",
       "      <th>Horas_transmitidas</th>\n",
       "      <th>Pico_de_espectadores</th>\n",
       "      <th>Pico_de_canais</th>\n",
       "      <th>Streamers</th>\n",
       "      <th>Telespectadores_avg</th>\n",
       "      <th>Canais_avg</th>\n",
       "      <th>lação_de_visualização_avg</th>\n",
       "    </tr>\n",
       "  </thead>\n",
       "  <tbody>\n",
       "    <tr>\n",
       "      <th>0</th>\n",
       "      <td>1</td>\n",
       "      <td>League of Legends</td>\n",
       "      <td>1</td>\n",
       "      <td>2016</td>\n",
       "      <td>94377226</td>\n",
       "      <td>1362044 hours</td>\n",
       "      <td>530270</td>\n",
       "      <td>2903</td>\n",
       "      <td>129172</td>\n",
       "      <td>127021</td>\n",
       "      <td>1833</td>\n",
       "      <td>69.29</td>\n",
       "    </tr>\n",
       "    <tr>\n",
       "      <th>1</th>\n",
       "      <td>2</td>\n",
       "      <td>Counter-Strike: Global Offensive</td>\n",
       "      <td>1</td>\n",
       "      <td>2016</td>\n",
       "      <td>47832863</td>\n",
       "      <td>830105 hours</td>\n",
       "      <td>372654</td>\n",
       "      <td>2197</td>\n",
       "      <td>120849</td>\n",
       "      <td>64378</td>\n",
       "      <td>1117</td>\n",
       "      <td>57.62</td>\n",
       "    </tr>\n",
       "    <tr>\n",
       "      <th>2</th>\n",
       "      <td>3</td>\n",
       "      <td>Dota 2</td>\n",
       "      <td>1</td>\n",
       "      <td>2016</td>\n",
       "      <td>45185893</td>\n",
       "      <td>433397 hours</td>\n",
       "      <td>315083</td>\n",
       "      <td>1100</td>\n",
       "      <td>44074</td>\n",
       "      <td>60815</td>\n",
       "      <td>583</td>\n",
       "      <td>104.26</td>\n",
       "    </tr>\n",
       "    <tr>\n",
       "      <th>3</th>\n",
       "      <td>4</td>\n",
       "      <td>Hearthstone</td>\n",
       "      <td>1</td>\n",
       "      <td>2016</td>\n",
       "      <td>39936159</td>\n",
       "      <td>235903 hours</td>\n",
       "      <td>131357</td>\n",
       "      <td>517</td>\n",
       "      <td>36170</td>\n",
       "      <td>53749</td>\n",
       "      <td>317</td>\n",
       "      <td>169.29</td>\n",
       "    </tr>\n",
       "    <tr>\n",
       "      <th>4</th>\n",
       "      <td>5</td>\n",
       "      <td>Call of Duty: Black Ops III</td>\n",
       "      <td>1</td>\n",
       "      <td>2016</td>\n",
       "      <td>16153057</td>\n",
       "      <td>1151578 hours</td>\n",
       "      <td>71639</td>\n",
       "      <td>3620</td>\n",
       "      <td>214054</td>\n",
       "      <td>21740</td>\n",
       "      <td>1549</td>\n",
       "      <td>14.03</td>\n",
       "    </tr>\n",
       "  </tbody>\n",
       "</table>\n",
       "</div>"
      ],
      "text/plain": [
       "   Ranque                              Jogo  Mes   Ano  Horas_observadas  \\\n",
       "0       1                 League of Legends    1  2016          94377226   \n",
       "1       2  Counter-Strike: Global Offensive    1  2016          47832863   \n",
       "2       3                            Dota 2    1  2016          45185893   \n",
       "3       4                       Hearthstone    1  2016          39936159   \n",
       "4       5       Call of Duty: Black Ops III    1  2016          16153057   \n",
       "\n",
       "  Horas_transmitidas  Pico_de_espectadores  Pico_de_canais  Streamers  \\\n",
       "0      1362044 hours                530270            2903     129172   \n",
       "1       830105 hours                372654            2197     120849   \n",
       "2       433397 hours                315083            1100      44074   \n",
       "3       235903 hours                131357             517      36170   \n",
       "4      1151578 hours                 71639            3620     214054   \n",
       "\n",
       "   Telespectadores_avg  Canais_avg  lação_de_visualização_avg  \n",
       "0               127021        1833                      69.29  \n",
       "1                64378        1117                      57.62  \n",
       "2                60815         583                     104.26  \n",
       "3                53749         317                     169.29  \n",
       "4                21740        1549                      14.03  "
      ]
     },
     "execution_count": 5,
     "metadata": {},
     "output_type": "execute_result"
    }
   ],
   "source": [
    "df.head()"
   ]
  },
  {
   "cell_type": "code",
   "execution_count": 6,
   "id": "f72a0839",
   "metadata": {},
   "outputs": [],
   "source": [
    "df_cs = df[ df['Jogo'] == 'Counter-Strike: Global Offensive']"
   ]
  },
  {
   "cell_type": "code",
   "execution_count": null,
   "id": "5f086f1b",
   "metadata": {},
   "outputs": [],
   "source": []
  },
  {
   "cell_type": "code",
   "execution_count": 7,
   "id": "5e89c29a",
   "metadata": {},
   "outputs": [],
   "source": [
    "cs = df_cs.groupby('Ano')[['Horas_observadas']].sum().reset_index()"
   ]
  },
  {
   "cell_type": "code",
   "execution_count": 8,
   "id": "85a3c853",
   "metadata": {},
   "outputs": [
    {
     "data": {
      "text/html": [
       "<div>\n",
       "<style scoped>\n",
       "    .dataframe tbody tr th:only-of-type {\n",
       "        vertical-align: middle;\n",
       "    }\n",
       "\n",
       "    .dataframe tbody tr th {\n",
       "        vertical-align: top;\n",
       "    }\n",
       "\n",
       "    .dataframe thead th {\n",
       "        text-align: right;\n",
       "    }\n",
       "</style>\n",
       "<table border=\"1\" class=\"dataframe\">\n",
       "  <thead>\n",
       "    <tr style=\"text-align: right;\">\n",
       "      <th></th>\n",
       "      <th>Ano</th>\n",
       "      <th>Horas_observadas</th>\n",
       "    </tr>\n",
       "  </thead>\n",
       "  <tbody>\n",
       "    <tr>\n",
       "      <th>0</th>\n",
       "      <td>2016</td>\n",
       "      <td>526391918</td>\n",
       "    </tr>\n",
       "    <tr>\n",
       "      <th>1</th>\n",
       "      <td>2017</td>\n",
       "      <td>419802259</td>\n",
       "    </tr>\n",
       "    <tr>\n",
       "      <th>2</th>\n",
       "      <td>2018</td>\n",
       "      <td>401775324</td>\n",
       "    </tr>\n",
       "    <tr>\n",
       "      <th>3</th>\n",
       "      <td>2019</td>\n",
       "      <td>457874735</td>\n",
       "    </tr>\n",
       "    <tr>\n",
       "      <th>4</th>\n",
       "      <td>2020</td>\n",
       "      <td>713749581</td>\n",
       "    </tr>\n",
       "    <tr>\n",
       "      <th>5</th>\n",
       "      <td>2021</td>\n",
       "      <td>401929394</td>\n",
       "    </tr>\n",
       "  </tbody>\n",
       "</table>\n",
       "</div>"
      ],
      "text/plain": [
       "    Ano  Horas_observadas\n",
       "0  2016         526391918\n",
       "1  2017         419802259\n",
       "2  2018         401775324\n",
       "3  2019         457874735\n",
       "4  2020         713749581\n",
       "5  2021         401929394"
      ]
     },
     "execution_count": 8,
     "metadata": {},
     "output_type": "execute_result"
    }
   ],
   "source": [
    "cs"
   ]
  },
  {
   "cell_type": "code",
   "execution_count": 9,
   "id": "da35f05d",
   "metadata": {},
   "outputs": [
    {
     "data": {
      "text/plain": [
       "Text(0, 0.5, 'Horas  obsevadas')"
      ]
     },
     "execution_count": 9,
     "metadata": {},
     "output_type": "execute_result"
    },
    {
     "data": {
      "image/png": "[encoded data removed]",
      "text/plain": [
       "<Figure size 432x288 with 1 Axes>"
      ]
     },
     "metadata": {
      "needs_background": "light"
     },
     "output_type": "display_data"
    }
   ],
   "source": [
    "ax = cs[0:5].plot(x ='Ano', y ='Horas_observadas', kind ='bar', color = 'red')\n",
    "\n",
    "ax.set_title('Horas observadas por ano')\n",
    "ax.set_xlabel('Ano')\n",
    "ax.set_ylabel('Horas  obsevadas')"
   ]
  },
  {
   "cell_type": "code",
   "execution_count": 10,
   "id": "dc9be93b",
   "metadata": {},
   "outputs": [],
   "source": [
    "df_cs2020 = df_cs[ df_cs['Ano'] == 2020]"
   ]
  },
  {
   "cell_type": "code",
   "execution_count": 11,
   "id": "b502183c",
   "metadata": {},
   "outputs": [
    {
     "data": {
      "text/plain": [
       "Text(0, 0.5, 'Horas observadas (milhoões)')"
      ]
     },
     "execution_count": 11,
     "metadata": {},
     "output_type": "execute_result"
    },
    {
     "data": {
      "image/png": "[encoded data removed]",
      "text/plain": [
       "<Figure size 432x288 with 1 Axes>"
      ]
     },
     "metadata": {
      "needs_background": "light"
     },
     "output_type": "display_data"
    }
   ],
   "source": [
    "ax = df_cs2020.plot(x = 'Mes', y = 'Horas_observadas', kind ='bar', title = 'Horas observadas no cs em 2020 ')\n",
    "ax.set_ylabel('Horas observadas (milhoões)')"
   ]
  },
  {
   "cell_type": "code",
   "execution_count": 12,
   "id": "f6af5b4d",
   "metadata": {},
   "outputs": [],
   "source": [
    "df['Horas_transmitidas'] = df['Horas_transmitidas'].apply(lambda x: x.replace( ' hours', ''))\n",
    "df['Horas_transmitidas'] = df['Horas_transmitidas'].astype(int)"
   ]
  },
  {
   "cell_type": "code",
   "execution_count": 13,
   "id": "341a11f3",
   "metadata": {},
   "outputs": [],
   "source": [
    "df_jogos_horas = df.groupby('Jogo').agg({\n",
    "        'Horas_observadas': np.sum\n",
    "        , 'Horas_transmitidas': np.sum\n",
    "    }).reset_index()"
   ]
  },
  {
   "cell_type": "code",
   "execution_count": 14,
   "id": "1a015b62",
   "metadata": {},
   "outputs": [
    {
     "data": {
      "text/html": [
       "<div>\n",
       "<style scoped>\n",
       "    .dataframe tbody tr th:only-of-type {\n",
       "        vertical-align: middle;\n",
       "    }\n",
       "\n",
       "    .dataframe tbody tr th {\n",
       "        vertical-align: top;\n",
       "    }\n",
       "\n",
       "    .dataframe thead th {\n",
       "        text-align: right;\n",
       "    }\n",
       "</style>\n",
       "<table border=\"1\" class=\"dataframe\">\n",
       "  <thead>\n",
       "    <tr style=\"text-align: right;\">\n",
       "      <th></th>\n",
       "      <th>Jogo</th>\n",
       "      <th>Horas_observadas</th>\n",
       "      <th>Horas_transmitidas</th>\n",
       "    </tr>\n",
       "  </thead>\n",
       "  <tbody>\n",
       "    <tr>\n",
       "      <th>0</th>\n",
       "      <td>.hack//G.U. Last Recode</td>\n",
       "      <td>145350</td>\n",
       "      <td>35258</td>\n",
       "    </tr>\n",
       "    <tr>\n",
       "      <th>1</th>\n",
       "      <td>60 Parsecs!</td>\n",
       "      <td>529688</td>\n",
       "      <td>1867</td>\n",
       "    </tr>\n",
       "    <tr>\n",
       "      <th>2</th>\n",
       "      <td>60 Seconds!</td>\n",
       "      <td>2834105</td>\n",
       "      <td>9208</td>\n",
       "    </tr>\n",
       "    <tr>\n",
       "      <th>3</th>\n",
       "      <td>7 Days to Die</td>\n",
       "      <td>53420415</td>\n",
       "      <td>4767018</td>\n",
       "    </tr>\n",
       "    <tr>\n",
       "      <th>4</th>\n",
       "      <td>&lt;U+014C&gt;kami</td>\n",
       "      <td>181539</td>\n",
       "      <td>19273</td>\n",
       "    </tr>\n",
       "  </tbody>\n",
       "</table>\n",
       "</div>"
      ],
      "text/plain": [
       "                      Jogo  Horas_observadas  Horas_transmitidas\n",
       "0  .hack//G.U. Last Recode            145350               35258\n",
       "1              60 Parsecs!            529688                1867\n",
       "2              60 Seconds!           2834105                9208\n",
       "3            7 Days to Die          53420415             4767018\n",
       "4             <U+014C>kami            181539               19273"
      ]
     },
     "execution_count": 14,
     "metadata": {},
     "output_type": "execute_result"
    }
   ],
   "source": [
    "df_jogos_horas.head()"
   ]
  },
  {
   "cell_type": "code",
   "execution_count": 15,
   "id": "d2cdfb41",
   "metadata": {},
   "outputs": [
    {
     "data": {
      "text/html": [
       "<div>\n",
       "<style scoped>\n",
       "    .dataframe tbody tr th:only-of-type {\n",
       "        vertical-align: middle;\n",
       "    }\n",
       "\n",
       "    .dataframe tbody tr th {\n",
       "        vertical-align: top;\n",
       "    }\n",
       "\n",
       "    .dataframe thead th {\n",
       "        text-align: right;\n",
       "    }\n",
       "</style>\n",
       "<table border=\"1\" class=\"dataframe\">\n",
       "  <thead>\n",
       "    <tr style=\"text-align: right;\">\n",
       "      <th></th>\n",
       "      <th>Jogo</th>\n",
       "      <th>Horas_observadas</th>\n",
       "      <th>Horas_transmitidas</th>\n",
       "    </tr>\n",
       "  </thead>\n",
       "  <tbody>\n",
       "    <tr>\n",
       "      <th>737</th>\n",
       "      <td>League of Legends</td>\n",
       "      <td>6664611934</td>\n",
       "      <td>132479023</td>\n",
       "    </tr>\n",
       "    <tr>\n",
       "      <th>499</th>\n",
       "      <td>Fortnite</td>\n",
       "      <td>4143704994</td>\n",
       "      <td>275193901</td>\n",
       "    </tr>\n",
       "    <tr>\n",
       "      <th>233</th>\n",
       "      <td>Counter-Strike: Global Offensive</td>\n",
       "      <td>2921523211</td>\n",
       "      <td>59889156</td>\n",
       "    </tr>\n",
       "    <tr>\n",
       "      <th>559</th>\n",
       "      <td>Grand Theft Auto V</td>\n",
       "      <td>2767974487</td>\n",
       "      <td>50044009</td>\n",
       "    </tr>\n",
       "    <tr>\n",
       "      <th>354</th>\n",
       "      <td>Dota 2</td>\n",
       "      <td>2698350543</td>\n",
       "      <td>29501709</td>\n",
       "    </tr>\n",
       "    <tr>\n",
       "      <th>600</th>\n",
       "      <td>Hearthstone</td>\n",
       "      <td>1934218330</td>\n",
       "      <td>11948505</td>\n",
       "    </tr>\n",
       "    <tr>\n",
       "      <th>1627</th>\n",
       "      <td>World of Warcraft</td>\n",
       "      <td>1644337720</td>\n",
       "      <td>55315190</td>\n",
       "    </tr>\n",
       "    <tr>\n",
       "      <th>986</th>\n",
       "      <td>PLAYERUNKNOWN'S BATTLEGROUNDS</td>\n",
       "      <td>1475296705</td>\n",
       "      <td>53666554</td>\n",
       "    </tr>\n",
       "    <tr>\n",
       "      <th>183</th>\n",
       "      <td>Call of Duty: Warzone</td>\n",
       "      <td>1419531059</td>\n",
       "      <td>79663641</td>\n",
       "    </tr>\n",
       "    <tr>\n",
       "      <th>861</th>\n",
       "      <td>Minecraft</td>\n",
       "      <td>1376338454</td>\n",
       "      <td>58869759</td>\n",
       "    </tr>\n",
       "  </tbody>\n",
       "</table>\n",
       "</div>"
      ],
      "text/plain": [
       "                                  Jogo  Horas_observadas  Horas_transmitidas\n",
       "737                  League of Legends        6664611934           132479023\n",
       "499                           Fortnite        4143704994           275193901\n",
       "233   Counter-Strike: Global Offensive        2921523211            59889156\n",
       "559                 Grand Theft Auto V        2767974487            50044009\n",
       "354                             Dota 2        2698350543            29501709\n",
       "600                        Hearthstone        1934218330            11948505\n",
       "1627                 World of Warcraft        1644337720            55315190\n",
       "986      PLAYERUNKNOWN'S BATTLEGROUNDS        1475296705            53666554\n",
       "183              Call of Duty: Warzone        1419531059            79663641\n",
       "861                          Minecraft        1376338454            58869759"
      ]
     },
     "execution_count": 15,
     "metadata": {},
     "output_type": "execute_result"
    }
   ],
   "source": [
    "df_jogos_horas1 = df_jogos_horas[ df_jogos_horas.Jogo != 'Just Chatting'].sort_values(by='Horas_observadas', ascending=False).head(10)\n",
    "df_jogos_horas1"
   ]
  },
  {
   "cell_type": "code",
   "execution_count": 16,
   "id": "e3a3140e",
   "metadata": {},
   "outputs": [
    {
     "data": {
      "text/plain": [
       "Text(0, 0.5, 'Horas observadas (milhoões)')"
      ]
     },
     "execution_count": 16,
     "metadata": {},
     "output_type": "execute_result"
    },
    {
     "data": {
      "image/png": "[encoded data removed]",
      "text/plain": [
       "<Figure size 1296x432 with 1 Axes>"
      ]
     },
     "metadata": {
      "needs_background": "light"
     },
     "output_type": "display_data"
    }
   ],
   "source": [
    "ax = df_jogos_horas1.plot(\n",
    "    x = 'Jogo',\n",
    "    y = 'Horas_observadas',\n",
    "    color = 'orange',\n",
    "    kind = 'bar',\n",
    "    figsize = (18, 6)\n",
    ")\n",
    "\n",
    "ax.set_title('TOP 10 de jogos mais observados')\n",
    "ax.set_ylabel('Horas observadas (milhoões)')\n",
    "\n"
   ]
  },
  {
   "cell_type": "code",
   "execution_count": 17,
   "id": "a21e6ce3",
   "metadata": {},
   "outputs": [],
   "source": [
    "df_jogos_horas_transmitidas = df_jogos_horas[ df_jogos_horas.Jogo != 'Just Chatting'].sort_values(by='Horas_transmitidas', ascending=False).head(10)\n"
   ]
  },
  {
   "cell_type": "code",
   "execution_count": 18,
   "id": "b7dc07bd",
   "metadata": {},
   "outputs": [
    {
     "data": {
      "text/plain": [
       "Text(0, 0.5, 'Horas transmitidas (milhoões)')"
      ]
     },
     "execution_count": 18,
     "metadata": {},
     "output_type": "execute_result"
    },
    {
     "data": {
      "image/png": "[encoded data removed]",
      "text/plain": [
       "<Figure size 1296x432 with 1 Axes>"
      ]
     },
     "metadata": {
      "needs_background": "light"
     },
     "output_type": "display_data"
    }
   ],
   "source": [
    "ax = df_jogos_horas_transmitidas.plot(\n",
    "    x = 'Jogo',\n",
    "    y = 'Horas_transmitidas',\n",
    "    color = 'green',\n",
    "    kind = 'bar',\n",
    "    figsize = (18, 6)\n",
    ")\n",
    "\n",
    "ax.set_title('TOP 10 de jogos com mais horas transmitidas')\n",
    "ax.set_ylabel('Horas transmitidas (milhoões)')\n",
    "\n"
   ]
  },
  {
   "cell_type": "code",
   "execution_count": 19,
   "id": "885c9ece",
   "metadata": {},
   "outputs": [
    {
     "data": {
      "text/plain": [
       "Ranque                               1\n",
       "Jogo                          VALORANT\n",
       "Mes                                  4\n",
       "Ano                               2020\n",
       "Horas_observadas             344551979\n",
       "Horas_transmitidas             4588347\n",
       "Pico_de_espectadores           1728977\n",
       "Pico_de_canais                   15710\n",
       "Streamers                       319709\n",
       "Telespectadores_avg             479209\n",
       "Canais_avg                        6381\n",
       "lação_de_visualização_avg        75.09\n",
       "Name: 10200, dtype: object"
      ]
     },
     "execution_count": 19,
     "metadata": {},
     "output_type": "execute_result"
    }
   ],
   "source": [
    "#Jogo mais visto em u\n",
    "num_id = df['Horas_observadas'].idxmax()\n",
    "df.loc[num_id]"
   ]
  },
  {
   "cell_type": "code",
   "execution_count": 20,
   "id": "6f2e5630",
   "metadata": {},
   "outputs": [
    {
     "data": {
      "text/plain": [
       "Jogo                  The Mean Greens: Plastic Warfare\n",
       "Horas_observadas                                 92460\n",
       "Horas_transmitidas                                 188\n",
       "Name: 1458, dtype: object"
      ]
     },
     "execution_count": 20,
     "metadata": {},
     "output_type": "execute_result"
    }
   ],
   "source": [
    "num_id = df_jogos_horas['Horas_observadas'].idxmin()\n",
    "df_jogos_horas.loc[num_id]"
   ]
  },
  {
   "cell_type": "code",
   "execution_count": 21,
   "id": "87084139",
   "metadata": {},
   "outputs": [
    {
     "data": {
      "text/plain": [
       "Jogo                    Fortnite\n",
       "Horas_observadas      4143704994\n",
       "Horas_transmitidas     275193901\n",
       "Name: 499, dtype: object"
      ]
     },
     "execution_count": 21,
     "metadata": {},
     "output_type": "execute_result"
    }
   ],
   "source": [
    "num_id = df_jogos_horas['Horas_transmitidas'].idxmax()\n",
    "df_jogos_horas.loc[num_id]"
   ]
  },
  {
   "cell_type": "code",
   "execution_count": 22,
   "id": "8c58c4c5",
   "metadata": {},
   "outputs": [
    {
     "data": {
      "text/plain": [
       "Jogo                  Brain Age: Train Your Brain in Minutes a Day!\n",
       "Horas_observadas                                             173011\n",
       "Horas_transmitidas                                               19\n",
       "Name: 151, dtype: object"
      ]
     },
     "execution_count": 22,
     "metadata": {},
     "output_type": "execute_result"
    }
   ],
   "source": [
    "num_id = df_jogos_horas['Horas_transmitidas'].idxmin()\n",
    "df_jogos_horas.loc[num_id]"
   ]
  },
  {
   "cell_type": "code",
   "execution_count": null,
   "id": "26f512ad",
   "metadata": {},
   "outputs": [],
   "source": []
  }
 ],
 "metadata": {
  "kernelspec": {
   "display_name": "Python 3",
   "language": "python",
   "name": "python3"
  },
  "language_info": {
   "codemirror_mode": {
    "name": "ipython",
    "version": 3
   },
   "file_extension": ".py",
   "mimetype": "text/x-python",
   "name": "python",
   "nbconvert_exporter": "python",
   "pygments_lexer": "ipython3",
   "version": "3.8.8"
  }
 },
 "nbformat": 4,
 "nbformat_minor": 5
}
